{
 "cells": [
  {
   "cell_type": "markdown",
   "metadata": {},
   "source": [
    "# Group 2D cells in 3D\n",
    "This script loads all bounding boxes for a given slice, clusters them in 3D, and derives meaningful 3D bounding boxes (frustums), where each frustum represents a cell in 3D."
   ]
  },
  {
   "cell_type": "code",
   "execution_count": 1,
   "metadata": {},
   "outputs": [],
   "source": [
    "# Import required packages and set configs\n",
    "import os\n",
    "import glob\n",
    "import json\n",
    "import torch\n",
    "import numpy as np\n",
    "import seaborn as sns\n",
    "from tqdm import tqdm\n",
    "from PIL import Image, ImageDraw\n",
    "from sklearn.cluster import KMeans\n",
    "from matplotlib import pyplot as plt"
   ]
  },
  {
   "cell_type": "code",
   "execution_count": 2,
   "metadata": {},
   "outputs": [],
   "source": [
    "# Configs\n",
    "output_dir = \"output/ClusteredPredictionsPlots\"\n",
    "os.makedirs(output_dir, exist_ok=True)"
   ]
  },
  {
   "cell_type": "code",
   "execution_count": 3,
   "metadata": {},
   "outputs": [
    {
     "name": "stdout",
     "output_type": "stream",
     "text": [
      "Detected 21 images.\n",
      "Detected 21 annotation files.\n",
      "['data/slices/half/all_slices2_done_predictions/0.png', 'data/slices/half/all_slices2_done_predictions/1.png', 'data/slices/half/all_slices2_done_predictions/10.png', 'data/slices/half/all_slices2_done_predictions/11.png', 'data/slices/half/all_slices2_done_predictions/12.png', 'data/slices/half/all_slices2_done_predictions/13.png', 'data/slices/half/all_slices2_done_predictions/14.png', 'data/slices/half/all_slices2_done_predictions/15.png', 'data/slices/half/all_slices2_done_predictions/16.png', 'data/slices/half/all_slices2_done_predictions/17.png', 'data/slices/half/all_slices2_done_predictions/18.png', 'data/slices/half/all_slices2_done_predictions/19.png', 'data/slices/half/all_slices2_done_predictions/2.png', 'data/slices/half/all_slices2_done_predictions/20.png', 'data/slices/half/all_slices2_done_predictions/3.png', 'data/slices/half/all_slices2_done_predictions/4.png', 'data/slices/half/all_slices2_done_predictions/5.png', 'data/slices/half/all_slices2_done_predictions/6.png', 'data/slices/half/all_slices2_done_predictions/7.png', 'data/slices/half/all_slices2_done_predictions/8.png', 'data/slices/half/all_slices2_done_predictions/9.png']\n",
      "['data/slices/half/all_slices2_done_predictions/annotations/0.json', 'data/slices/half/all_slices2_done_predictions/annotations/1.json', 'data/slices/half/all_slices2_done_predictions/annotations/10.json', 'data/slices/half/all_slices2_done_predictions/annotations/11.json', 'data/slices/half/all_slices2_done_predictions/annotations/12.json', 'data/slices/half/all_slices2_done_predictions/annotations/13.json', 'data/slices/half/all_slices2_done_predictions/annotations/14.json', 'data/slices/half/all_slices2_done_predictions/annotations/15.json', 'data/slices/half/all_slices2_done_predictions/annotations/16.json', 'data/slices/half/all_slices2_done_predictions/annotations/17.json', 'data/slices/half/all_slices2_done_predictions/annotations/18.json', 'data/slices/half/all_slices2_done_predictions/annotations/19.json', 'data/slices/half/all_slices2_done_predictions/annotations/2.json', 'data/slices/half/all_slices2_done_predictions/annotations/20.json', 'data/slices/half/all_slices2_done_predictions/annotations/3.json', 'data/slices/half/all_slices2_done_predictions/annotations/4.json', 'data/slices/half/all_slices2_done_predictions/annotations/5.json', 'data/slices/half/all_slices2_done_predictions/annotations/6.json', 'data/slices/half/all_slices2_done_predictions/annotations/7.json', 'data/slices/half/all_slices2_done_predictions/annotations/8.json', 'data/slices/half/all_slices2_done_predictions/annotations/9.json']\n"
     ]
    }
   ],
   "source": [
    "# Load the data\n",
    "images_dir = \"data/slices/half/all_slices2_done_predictions/\"\n",
    "anns_dir = os.path.join(images_dir, \"annotations\")\n",
    "images_list = sorted(glob.glob(images_dir + \"/*.png\"))\n",
    "anns_list = sorted(glob.glob(anns_dir + \"/*.json\"))\n",
    "print(f\"Detected {len(images_list)} images.\\nDetected {len(anns_list)} annotation files.\")\n",
    "print(images_list)\n",
    "print(anns_list)"
   ]
  },
  {
   "cell_type": "code",
   "execution_count": 4,
   "metadata": {},
   "outputs": [
    {
     "name": "stderr",
     "output_type": "stream",
     "text": [
      "100%|█████████████████████████████████████████████████████████████████████████████████| 21/21 [00:00<00:00, 1127.79it/s]"
     ]
    },
    {
     "name": "stdout",
     "output_type": "stream",
     "text": [
      "Extracted 2204 bounding boxes in total\n"
     ]
    },
    {
     "name": "stderr",
     "output_type": "stream",
     "text": [
      "\n"
     ]
    }
   ],
   "source": [
    "# Collect the bounding boxes along with their z values\n",
    "bbox_list = []\n",
    "\n",
    "# Loop through all bounding boxes\n",
    "for anns_path in tqdm(anns_list):\n",
    "    # Load the annotations file\n",
    "    with open(anns_path, 'rb') as f:\n",
    "        anns = json.load(f)\n",
    "\n",
    "    # Extract the z-value\n",
    "    z = float(anns_path.split('/')[-1].split('.')[0])\n",
    "    \n",
    "    # Build the bounding box information\n",
    "    for label in anns['shapes']:\n",
    "        points = label['points']\n",
    "        bbox_info = {\n",
    "            \"x1\": min(points[0][0], points[1][0]), # x min\n",
    "            \"x2\": max(points[0][0], points[1][0]), # x max\n",
    "            \"y1\": min(points[0][1], points[1][1]), # y min\n",
    "            \"y2\": max(points[0][1], points[1][1]), # y max\n",
    "            \"z\": z,\n",
    "            \"annotations_file\": anns_path,\n",
    "        }\n",
    "\n",
    "        # Append to the list of bounding boxes\n",
    "        bbox_list.append(bbox_info)\n",
    "\n",
    "print(f\"Extracted {len(bbox_list)} bounding boxes in total\")\n"
   ]
  },
  {
   "cell_type": "code",
   "execution_count": 5,
   "metadata": {},
   "outputs": [],
   "source": [
    "# IoU calculation function. \n",
    "# Adopted from https://stackoverflow.com/questions/25349178/calculating-percentage-of-bounding-box-overlap-for-image-detector-evaluation\n",
    "def get_iou(bb1, bb2):\n",
    "    \"\"\"\n",
    "    Calculate the Intersection over Union (IoU) of two bounding boxes.\n",
    "\n",
    "    Parameters\n",
    "    ----------\n",
    "    bb1 : dict\n",
    "        Keys: {'x1', 'x2', 'y1', 'y2'}\n",
    "        The (x1, y1) position is at the top left corner,\n",
    "        the (x2, y2) position is at the bottom right corner\n",
    "    bb2 : dict\n",
    "        Keys: {'x1', 'x2', 'y1', 'y2'}\n",
    "        The (x, y) position is at the top left corner,\n",
    "        the (x2, y2) position is at the bottom right corner\n",
    "\n",
    "    Returns\n",
    "    -------\n",
    "    float\n",
    "        in [0, 1]\n",
    "    \"\"\"\n",
    "    assert bb1['x1'] <= bb1['x2'], f\"{bb1['x1']}, {bb1['x2']}\"\n",
    "    assert bb1['y1'] <= bb1['y2'], f\"{bb1['y1']}, {bb1['y2']}\"\n",
    "    assert bb2['x1'] <= bb2['x2'], f\"{bb2['x1']}, {bb2['x2']}\"\n",
    "    assert bb2['y1'] <= bb2['y2'], f\"{bb2['y1']}, {bb2['y2']}\"\n",
    "\n",
    "    # determine the coordinates of the intersection rectangle\n",
    "    x_left = max(bb1['x1'], bb2['x1'])\n",
    "    y_top = max(bb1['y1'], bb2['y1'])\n",
    "    x_right = min(bb1['x2'], bb2['x2'])\n",
    "    y_bottom = min(bb1['y2'], bb2['y2'])\n",
    "\n",
    "    if x_right < x_left or y_bottom < y_top:\n",
    "        return 0.0\n",
    "\n",
    "    # The intersection of two axis-aligned bounding boxes is always an\n",
    "    # axis-aligned bounding box\n",
    "    intersection_area = (x_right - x_left) * (y_bottom - y_top)\n",
    "\n",
    "    # compute the area of both AABBs\n",
    "    bb1_area = (bb1['x2'] - bb1['x1']) * (bb1['y2'] - bb1['y1'])\n",
    "    bb2_area = (bb2['x2'] - bb2['x1']) * (bb2['y2'] - bb2['y1'])\n",
    "\n",
    "    # compute the intersection over union by taking the intersection\n",
    "    # area and dividing it by the sum of prediction + ground-truth\n",
    "    # areas - the interesection area\n",
    "    iou = intersection_area / float(bb1_area + bb2_area - intersection_area)\n",
    "    assert iou >= 0.0\n",
    "    assert iou <= 1.0\n",
    "    return iou"
   ]
  },
  {
   "cell_type": "code",
   "execution_count": 6,
   "metadata": {},
   "outputs": [
    {
     "name": "stderr",
     "output_type": "stream",
     "text": [
      "100%|███████████████████████████████████████████████████████████████████████████████| 2204/2204 [00:37<00:00, 58.34it/s]"
     ]
    },
    {
     "name": "stdout",
     "output_type": "stream",
     "text": [
      "Creating the adjacency matrix\n"
     ]
    },
    {
     "name": "stderr",
     "output_type": "stream",
     "text": [
      "\n"
     ]
    }
   ],
   "source": [
    "# Compute the IoU distances between all pairs of bounding boxes [len(bbox_list) x len(bbox_list)]\n",
    "n_boxes = len(bbox_list)\n",
    "iou_matrix = torch.empty(size=(n_boxes, n_boxes))\n",
    "for i in tqdm(range(n_boxes)):\n",
    "    for j in range(n_boxes):\n",
    "        iou_score = get_iou(bbox_list[i], bbox_list[j])\n",
    "        iou_matrix[i][j] = iou_score\n",
    "print(\"Creating the adjacency matrix\")\n",
    "adjacency_matrix = np.array(iou_matrix)"
   ]
  },
  {
   "cell_type": "code",
   "execution_count": 7,
   "metadata": {},
   "outputs": [
    {
     "data": {
      "image/png": "[encoded data removed]",
      "text/plain": [
       "<Figure size 640x480 with 1 Axes>"
      ]
     },
     "metadata": {},
     "output_type": "display_data"
    }
   ],
   "source": [
    "# Plot the distribution of IoU scores\n",
    "data = iou_matrix.numpy().flatten()\n",
    "fig, ax = plt.subplots()\n",
    "ax.hist(data, bins=50, range=(0, 1), edgecolor='black', alpha=0.7, log=True)\n",
    "ax.set_xlabel('Intersection over Union (IoU) Values')\n",
    "ax.set_ylabel('Frequency')\n",
    "ax.set_title('Histogram of IoU Values')\n",
    "fig.show()"
   ]
  },
  {
   "cell_type": "markdown",
   "metadata": {},
   "source": [
    "# Clustering the bounding boxes\n",
    "\n",
    "Having recorded all bounding boxes, we need to cluster them.\n",
    "There are currently 2 approaches for that: clustering the graph directly, or transferring the graph into some embedding space and performing clustering there."
   ]
  },
  {
   "cell_type": "markdown",
   "metadata": {},
   "source": [
    "# Approach 1\n",
    "\n",
    "In this case, we attempt to cluster the nodes of the graph directly, by applying the technique called \"Spectral Clustering\"."
   ]
  },
  {
   "cell_type": "code",
   "execution_count": 8,
   "metadata": {},
   "outputs": [],
   "source": [
    "def spectral_clustering(adjacency_matrix, num_clusters):\n",
    "    # Step 1: Create the Laplacian Matrix\n",
    "    # Calculate the normalized Laplacian\n",
    "    sqrt_inv_degree_matrix = np.diag(1 / np.sqrt(np.sum(adjacency_matrix, axis=1))) # D^(-1/2)\n",
    "    normalized_laplacian = np.eye(len(adjacency_matrix)) - np.dot(sqrt_inv_degree_matrix, np.dot(adjacency_matrix, sqrt_inv_degree_matrix))\n",
    "    \n",
    "    # Step 2: Eigenvalue Decomposition\n",
    "    eigenvalues, eigenvectors = np.linalg.eigh(normalized_laplacian)\n",
    "    \n",
    "    # Step 3: Select the Number of Clusters\n",
    "    # You can use various methods to determine the number of clusters, such as the 'elbow' method.\n",
    "    # For simplicity, we'll use a fixed number of clusters.\n",
    "    \n",
    "    # Step 4: Cluster the Data\n",
    "    kmeans = KMeans(n_clusters=num_clusters, n_init=10)\n",
    "    cluster_assignments = kmeans.fit_predict(eigenvectors[:, 1:num_clusters + 1])\n",
    "\n",
    "    # Calculate the average loss (inertia) of KMeans clustering\n",
    "    average_loss = kmeans.inertia_\n",
    "    \n",
    "    return cluster_assignments, average_loss"
   ]
  },
  {
   "cell_type": "markdown",
   "metadata": {},
   "source": [
    "## Manually deduce the number of clusters\n",
    "\n",
    "If you choose to manually deduce the number of clusters, you will inspect the loss curve of K-means clusters, and infer the optimal number of clusters."
   ]
  },
  {
   "cell_type": "code",
   "execution_count": 9,
   "metadata": {},
   "outputs": [
    {
     "name": "stderr",
     "output_type": "stream",
     "text": [
      "100%|███████████████████████████████████████████████████████████████████████████████████| 31/31 [00:21<00:00,  1.46it/s]\n"
     ]
    },
    {
     "data": {
      "image/png": "[encoded data removed]",
      "text/plain": [
       "<Figure size 640x480 with 1 Axes>"
      ]
     },
     "metadata": {},
     "output_type": "display_data"
    }
   ],
   "source": [
    "# Plot the K-means error plot\n",
    "n_clusters_test_start = 90\n",
    "n_clusters_test_end = 120\n",
    "losses = {}\n",
    "\n",
    "for n_clusters in tqdm(range(n_clusters_test_start, n_clusters_test_end + 1)):\n",
    "    _, average_loss = spectral_clustering(adjacency_matrix, n_clusters)\n",
    "    losses[n_clusters] = average_loss\n",
    "\n",
    "# Plot the average loss depending on the number of clusters\n",
    "fig, ax = plt.subplots()\n",
    "ax.plot(losses.keys(), losses.values(), color='blue')\n",
    "ax.grid(True)\n",
    "fig.show()"
   ]
  },
  {
   "cell_type": "code",
   "execution_count": 10,
   "metadata": {},
   "outputs": [
    {
     "name": "stdout",
     "output_type": "stream",
     "text": [
      "Clustered the bounding boxes into 101 clusters.\n",
      "[90  6 69 ... 97 82  3]\n"
     ]
    }
   ],
   "source": [
    "n_clusters = 101\n",
    "cluster_assignments, _ = spectral_clustering(adjacency_matrix, n_clusters)\n",
    "print(f\"Clustered the bounding boxes into {n_clusters} clusters.\")\n",
    "print(cluster_assignments)"
   ]
  },
  {
   "cell_type": "markdown",
   "metadata": {},
   "source": [
    "## Automatic inference of the number of cluster [not precise]\n",
    "\n",
    "In this scenario, the number of clusters is approximated as the mean of detections per image."
   ]
  },
  {
   "cell_type": "code",
   "execution_count": 11,
   "metadata": {},
   "outputs": [
    {
     "name": "stdout",
     "output_type": "stream",
     "text": [
      "Approximating the data as 104 clusters per image\n",
      "Clustered the bounding boxes into 104 clusters.\n",
      "[  8  39  92 ...   2 101  19]\n"
     ]
    }
   ],
   "source": [
    "n_clusters = int(n_boxes / len(anns_list))\n",
    "print(f\"Approximating the data as {n_clusters} clusters per image\")\n",
    "cluster_assignments, _ = spectral_clustering(adjacency_matrix, n_clusters)\n",
    "print(f\"Clustered the bounding boxes into {n_clusters} clusters.\")\n",
    "print(cluster_assignments)"
   ]
  },
  {
   "cell_type": "markdown",
   "metadata": {},
   "source": [
    "# Approach 2 (NOT FINISHED)\n",
    "\n",
    "In this case we attempt to turn the nodes into embeddings, and perform clustering in the embedding space."
   ]
  },
  {
   "cell_type": "code",
   "execution_count": 12,
   "metadata": {},
   "outputs": [
    {
     "name": "stderr",
     "output_type": "stream",
     "text": [
      "/home/stadiset/.conda/envs/celldet/lib/python3.9/site-packages/tqdm/auto.py:21: TqdmWarning: IProgress not found. Please update jupyter and ipywidgets. See https://ipywidgets.readthedocs.io/en/stable/user_install.html\n",
      "  from .autonotebook import tqdm as notebook_tqdm\n"
     ]
    },
    {
     "name": "stdout",
     "output_type": "stream",
     "text": [
      "Building a graph with 2204 nodes\n"
     ]
    },
    {
     "name": "stderr",
     "output_type": "stream",
     "text": [
      "100%|██████████████████████████████████████████████████████████████████████████████| 2204/2204 [00:21<00:00, 103.86it/s]\n"
     ]
    }
   ],
   "source": [
    "# Build a graph\n",
    "\n",
    "import networkx as nx\n",
    "from node2vec import Node2Vec\n",
    "\n",
    "# Create an undirected weighted graph\n",
    "G = nx.Graph()\n",
    "\n",
    "# Add nodes and edges\n",
    "print(f\"Building a graph with {n_boxes} nodes\")\n",
    "for i in tqdm(range(n_boxes)):\n",
    "    # Add the node\n",
    "    G.add_node(i)\n",
    "\n",
    "    # Add the edges\n",
    "    for j in range(i + 1, n_boxes):\n",
    "        dist = iou_matrix[i][j]\n",
    "        if dist > 0:\n",
    "            G.add_edge(i, j, weight=dist)\n"
   ]
  },
  {
   "cell_type": "code",
   "execution_count": 13,
   "metadata": {},
   "outputs": [
    {
     "name": "stdout",
     "output_type": "stream",
     "text": [
      "Initializing the node-to-vector object\n"
     ]
    },
    {
     "name": "stderr",
     "output_type": "stream",
     "text": [
      "Computing transition probabilities: 100%|███████████████████████████████████████████| 2204/2204 [00:40<00:00, 53.84it/s]\n",
      "Generating walks (CPU: 1): 100%|██████████| 17/17 [00:08<00:00,  1.92it/s]\n",
      "Generating walks (CPU: 2): 100%|██████████| 17/17 [00:08<00:00,  1.92it/s]\n",
      "Generating walks (CPU: 3): 100%|██████████| 17/17 [00:08<00:00,  1.92it/s]\n",
      "Generating walks (CPU: 4): 100%|██████████| 17/17 [00:09<00:00,  1.78it/s]\n",
      "Generating walks (CPU: 5): 100%|██████████| 17/17 [00:08<00:00,  1.93it/s]\n",
      "Generating walks (CPU: 6): 100%|██████████| 17/17 [00:08<00:00,  1.93it/s]\n",
      "Generating walks (CPU: 7): 100%|██████████| 17/17 [00:10<00:00,  1.69it/s]]\n",
      "Generating walks (CPU: 8): 100%|██████████| 17/17 [00:09<00:00,  1.89it/s]]\n",
      "Generating walks (CPU: 9): 100%|██████████| 16/16 [00:08<00:00,  1.91it/s]]\n",
      "Generating walks (CPU: 10): 100%|██████████| 16/16 [00:08<00:00,  1.99it/s]\n",
      "Generating walks (CPU: 11): 100%|██████████| 16/16 [00:07<00:00,  2.02it/s]\n",
      "Generating walks (CPU: 12): 100%|██████████| 16/16 [00:07<00:00,  2.08it/s]\n"
     ]
    },
    {
     "name": "stdout",
     "output_type": "stream",
     "text": [
      "Fitting the nodes\n"
     ]
    }
   ],
   "source": [
    "# Convert the graph into the embeddings space\n",
    "\n",
    "# Initialize and fit Node2Vec\n",
    "print(\"Initializing the node-to-vector object\")\n",
    "node2vec = Node2Vec(G, dimensions=64, walk_length=30, num_walks=200, workers=12)\n",
    "\n",
    "# Learn embeddings\n",
    "print(\"Fitting the nodes\")\n",
    "model = node2vec.fit(window=10, min_count=1, batch_words=4)"
   ]
  },
  {
   "cell_type": "code",
   "execution_count": null,
   "metadata": {},
   "outputs": [],
   "source": [
    "# Get the embeddings\n",
    "node_embeddings = {str(node): model.wv[str(node)] for node in G.nodes()}\n",
    "\n",
    "for i in tqdm(range(n_boxes)):\n",
    "    for j in range(i + 1, n_boxes):\n",
    "            # IoU distance\n",
    "            iou_dist = iou_matrix[i][j]\n",
    "            \n",
    "            # if iou_dist != 0 and iou_dist != 1:\n",
    "            # Embedding distance\n",
    "            emb_i = node_embeddings[str(i)]\n",
    "            emb_j = node_embeddings[str(j)]\n",
    "            emb_dist = emb_i - emb_j\n",
    "            emb_dist = np.linalg.norm(emb_dist, ord=2)\n",
    "\n",
    "#             print(iou_dist, emb_dist)"
   ]
  },
  {
   "cell_type": "markdown",
   "metadata": {},
   "source": [
    "# Visualizing clustered bounding boxes\n",
    "\n",
    "After we have assigned bounding boxes to different clusters, we can visualize them."
   ]
  },
  {
   "cell_type": "code",
   "execution_count": 20,
   "metadata": {},
   "outputs": [
    {
     "name": "stdout",
     "output_type": "stream",
     "text": [
      "Labeled 2204 bounding boxes\n",
      "[{'annotations_file': 'data/slices/half/all_slices2_done_predictions/annotations/0.json',\n",
      "  'cluster': 8,\n",
      "  'color': (0.8, 0.7254901960784313, 0.4549019607843137),\n",
      "  'x1': 34.15127944946289,\n",
      "  'x2': 105.76133728027344,\n",
      "  'y1': 452.0997314453125,\n",
      "  'y2': 529.493896484375,\n",
      "  'z': 0.0},\n",
      " {'annotations_file': 'data/slices/half/all_slices2_done_predictions/annotations/0.json',\n",
      "  'cluster': 39,\n",
      "  'color': (0.39215686274509803, 0.7098039215686275, 0.803921568627451),\n",
      "  'x1': 1.9528484344482422,\n",
      "  'x2': 32.269447326660156,\n",
      "  'y1': 204.99276733398438,\n",
      "  'y2': 249.90939331054688,\n",
      "  'z': 0.0},\n",
      " {'annotations_file': 'data/slices/half/all_slices2_done_predictions/annotations/0.json',\n",
      "  'cluster': 92,\n",
      "  'color': (0.3333333333333333, 0.6588235294117647, 0.40784313725490196),\n",
      "  'x1': 65.32899475097656,\n",
      "  'x2': 116.227783203125,\n",
      "  'y1': 603.5281982421875,\n",
      "  'y2': 642.44775390625,\n",
      "  'z': 0.0}]\n"
     ]
    }
   ],
   "source": [
    "from pprint import pprint\n",
    "\n",
    "# Label the bounding boxes with different colors\n",
    "sns.set_palette(palette='deep', n_colors=n_clusters)\n",
    "colors = sns.color_palette() # Create a list of RGB colors, where each color corresponds to a cluster\n",
    "assert len(bbox_list) == len(cluster_assignments) == n_boxes\n",
    "for idx in range(n_boxes):\n",
    "    bbox_list[idx]['cluster'] = cluster_assignments[idx]\n",
    "    bbox_list[idx]['color'] = colors[cluster_assignments[idx]]\n",
    "print(f\"Labeled {n_boxes} bounding boxes\")\n",
    "pprint(bbox_list[:3])"
   ]
  },
  {
   "cell_type": "code",
   "execution_count": 21,
   "metadata": {},
   "outputs": [
    {
     "name": "stdout",
     "output_type": "stream",
     "text": [
      "Loading images and visualizing the clusters\n",
      "[1/21] Collected 106 bounding boxes for image data/slices/half/all_slices2_done_predictions/0.png\n",
      "[2/21] Collected 105 bounding boxes for image data/slices/half/all_slices2_done_predictions/1.png\n",
      "[3/21] Collected 106 bounding boxes for image data/slices/half/all_slices2_done_predictions/10.png\n",
      "[4/21] Collected 106 bounding boxes for image data/slices/half/all_slices2_done_predictions/11.png\n",
      "[5/21] Collected 106 bounding boxes for image data/slices/half/all_slices2_done_predictions/12.png\n",
      "[6/21] Collected 106 bounding boxes for image data/slices/half/all_slices2_done_predictions/13.png\n",
      "[7/21] Collected 106 bounding boxes for image data/slices/half/all_slices2_done_predictions/14.png\n",
      "[8/21] Collected 105 bounding boxes for image data/slices/half/all_slices2_done_predictions/15.png\n",
      "[9/21] Collected 104 bounding boxes for image data/slices/half/all_slices2_done_predictions/16.png\n",
      "[10/21] Collected 103 bounding boxes for image data/slices/half/all_slices2_done_predictions/17.png\n",
      "[11/21] Collected 105 bounding boxes for image data/slices/half/all_slices2_done_predictions/18.png\n",
      "[12/21] Collected 100 bounding boxes for image data/slices/half/all_slices2_done_predictions/19.png\n",
      "[13/21] Collected 106 bounding boxes for image data/slices/half/all_slices2_done_predictions/2.png\n",
      "[14/21] Collected 101 bounding boxes for image data/slices/half/all_slices2_done_predictions/20.png\n",
      "[15/21] Collected 106 bounding boxes for image data/slices/half/all_slices2_done_predictions/3.png\n",
      "[16/21] Collected 106 bounding boxes for image data/slices/half/all_slices2_done_predictions/4.png\n",
      "[17/21] Collected 105 bounding boxes for image data/slices/half/all_slices2_done_predictions/5.png\n",
      "[18/21] Collected 106 bounding boxes for image data/slices/half/all_slices2_done_predictions/6.png\n",
      "[19/21] Collected 105 bounding boxes for image data/slices/half/all_slices2_done_predictions/7.png\n",
      "[20/21] Collected 106 bounding boxes for image data/slices/half/all_slices2_done_predictions/8.png\n",
      "[21/21] Collected 105 bounding boxes for image data/slices/half/all_slices2_done_predictions/9.png\n"
     ]
    }
   ],
   "source": [
    "# Visualize the bounding boxes per image\n",
    "n_images = len(images_list)\n",
    "save_dir = os.path.join(output_dir, \"BoxesPerImage\")\n",
    "os.makedirs(save_dir, exist_ok=True)\n",
    "print(\"Loading images and visualizing the clusters\")\n",
    "for idx, image_path in enumerate(images_list):\n",
    "    # Fetch image information\n",
    "    z = image_path.split('/')[-1].split('.')[0]\n",
    "    bboxes = []\n",
    "    anns_path = os.path.join(anns_dir, f\"{z}.json\")\n",
    "    assert os.path.exists(anns_path)\n",
    "\n",
    "    # Collect all the corresponding bounding boxes\n",
    "    for bbox_info in bbox_list:\n",
    "        if bbox_info['annotations_file'] == anns_path:\n",
    "            bboxes.append(bbox_info)\n",
    "    print(f\"[{idx + 1}/{n_images}] Collected {len(bboxes)} bounding boxes for image {image_path}\")\n",
    "\n",
    "    # Load the image\n",
    "    image = Image.open(image_path).convert('RGB')\n",
    "\n",
    "    # Draw the bounding boxes with the corresponding colors\n",
    "    draw = ImageDraw.Draw(image)\n",
    "    for bbox in bboxes:\n",
    "        x1 = bbox['x1']\n",
    "        y1 = bbox['y1']\n",
    "        x2 = bbox['x2']\n",
    "        y2 = bbox['y2']\n",
    "        outline_color = tuple([int(x * 255) for x in bbox['color']])\n",
    "        draw.rectangle([min(x1, x2), min(y1, y2), max(x1, x2), max(y1, y2)], outline=outline_color)\n",
    "    \n",
    "    # Save the labeled image\n",
    "    save_path = os.path.join(output_dir, \"BoxesPerImage\", image_path.split('/')[-1])\n",
    "    image.save(save_path)"
   ]
  },
  {
   "cell_type": "code",
   "execution_count": 22,
   "metadata": {},
   "outputs": [
    {
     "name": "stderr",
     "output_type": "stream",
     "text": [
      "100%|█████████████████████████████████████████████████████████████████████████████████| 104/104 [09:25<00:00,  5.43s/it]\n"
     ]
    }
   ],
   "source": [
    "# Visualize the bounding boxes per cluster\n",
    "save_dir = os.path.join(output_dir, \"BoxesPerCluster\")\n",
    "os.makedirs(save_dir, exist_ok=True)\n",
    "for cluster_idx in tqdm(range(n_clusters)):\n",
    "    os.makedirs(os.path.join(save_dir, str(cluster_idx)), exist_ok=True)\n",
    "    for idx, image_path in enumerate(images_list):\n",
    "        # Fetch image information\n",
    "        z = image_path.split('/')[-1].split('.')[0]\n",
    "        bboxes = []\n",
    "        anns_path = os.path.join(anns_dir, f\"{z}.json\")\n",
    "        assert os.path.exists(anns_path)\n",
    "\n",
    "        # Collect all the corresponding bounding boxes\n",
    "        for bbox_info in bbox_list:\n",
    "            if bbox_info['annotations_file'] == anns_path and bbox_info['cluster'] == cluster_idx:\n",
    "                bboxes.append(bbox_info)\n",
    "\n",
    "        # Load the image\n",
    "        image = Image.open(image_path).convert('RGB')\n",
    "\n",
    "        # Draw the bounding boxes with the corresponding colors\n",
    "        draw = ImageDraw.Draw(image)\n",
    "        for bbox in bboxes:\n",
    "            x1 = bbox['x1']\n",
    "            y1 = bbox['y1']\n",
    "            x2 = bbox['x2']\n",
    "            y2 = bbox['y2']\n",
    "            outline_color = tuple([int(x * 255) for x in bbox['color']])\n",
    "            draw.rectangle([min(x1, x2), min(y1, y2), max(x1, x2), max(y1, y2)], outline=outline_color)\n",
    "        \n",
    "        # Save the labeled image\n",
    "        save_path = os.path.join(output_dir, \"BoxesPerCluster\", str(cluster_idx), image_path.split('/')[-1])\n",
    "        image.save(save_path)"
   ]
  },
  {
   "cell_type": "markdown",
   "metadata": {},
   "source": [
    "# Combine the 2D boxes into 3D frustums"
   ]
  },
  {
   "cell_type": "code",
   "execution_count": 23,
   "metadata": {},
   "outputs": [
    {
     "name": "stdout",
     "output_type": "stream",
     "text": [
      "Retrieving 104 3D frustums\n"
     ]
    },
    {
     "name": "stderr",
     "output_type": "stream",
     "text": [
      "100%|████████████████████████████████████████████████████████████████████████████████| 104/104 [00:00<00:00, 444.36it/s]"
     ]
    },
    {
     "name": "stdout",
     "output_type": "stream",
     "text": [
      "Frustums have been computed!\n"
     ]
    },
    {
     "name": "stderr",
     "output_type": "stream",
     "text": [
      "\n"
     ]
    }
   ],
   "source": [
    "# Function that retrieves all bounding boxes assigned to a particular cluster\n",
    "def retrieve_cluster(bbox_list, idx):\n",
    "    cluster = []\n",
    "    for bbox_info in bbox_list:\n",
    "        if bbox_info['cluster'] == idx:\n",
    "            cluster.append(bbox_info)\n",
    "    return cluster\n",
    "\n",
    "# Function that converts a set of bounding boxes into 3D frustums. Return (xmin, xmax, ymin, ymax, zmin, zmax)\n",
    "def bbox2frustum(cluster):\n",
    "    # Extract bounding box coordinates (center, width, height)\n",
    "    xmins = [min(bbox['x1'], bbox['x2']) for bbox in cluster]\n",
    "    xmaxs = [max(bbox['x1'], bbox['x2']) for bbox in cluster]\n",
    "    ymins = [min(bbox['y1'], bbox['y2']) for bbox in cluster]\n",
    "    ymaxs = [max(bbox['y1'], bbox['y2']) for bbox in cluster]\n",
    "    zs = [bbox['z'] for bbox in cluster]\n",
    "    \n",
    "    # Define the frustum\n",
    "    x1 = min(xmins)\n",
    "    y1 = min(ymins)\n",
    "    x2 = max(xmaxs)\n",
    "    y2 = max(ymaxs)\n",
    "    z1 = min(zs)\n",
    "    z2 = max(zs)\n",
    "\n",
    "    frustum = {\n",
    "        \"x1\": x1,\n",
    "        \"x2\": x2,\n",
    "        \"y1\": y1,\n",
    "        \"y2\": y2,\n",
    "        \"z1\": z1,\n",
    "        \"z2\": z2,\n",
    "    }\n",
    "\n",
    "    return frustum\n",
    "\n",
    "# Function that post-processes frustums\n",
    "def postprocess_frustums(frustums_list):\n",
    "    return frustums_list\n",
    "\n",
    "# For each cluster idx, retrieve its bounding boxes and compute the 3D frustum\n",
    "frustums_list = []\n",
    "print(f\"Retrieving {n_clusters} 3D frustums\")\n",
    "for idx in tqdm(range(n_clusters)):\n",
    "    # Retrieve the cluster\n",
    "    cluster = retrieve_cluster(bbox_list, idx)\n",
    "    \n",
    "    # Deduce the frustum\n",
    "    frustum = bbox2frustum(cluster)\n",
    "    frustum['cluster'] = idx\n",
    "\n",
    "    # Append to the list of frustums\n",
    "    frustums_list.append(frustum)\n",
    "\n",
    "# Post-process frustums (e.g. remove outliers)\n",
    "frustums_list = postprocess_frustums(frustums_list)\n",
    "\n",
    "print(\"Frustums have been computed!\")"
   ]
  },
  {
   "cell_type": "markdown",
   "metadata": {},
   "source": [
    "# Visualize and save the frustums"
   ]
  },
  {
   "cell_type": "code",
   "execution_count": 24,
   "metadata": {},
   "outputs": [
    {
     "name": "stderr",
     "output_type": "stream",
     "text": [
      "100%|█████████████████████████████████████████████████████████████████████████████████| 104/104 [09:28<00:00,  5.46s/it]\n"
     ]
    }
   ],
   "source": [
    "save_dir = os.path.join(output_dir, \"FrustumsPerCluster\")\n",
    "os.makedirs(save_dir, exist_ok=True)\n",
    "\n",
    "# Save the frustums\n",
    "with open(os.path.join(save_dir, \"frustums_list.json\"), 'w') as f:\n",
    "    json.dump(frustums_list, f)\n",
    "\n",
    "# Visualize the frustums per cluster\n",
    "for cluster_idx in tqdm(range(n_clusters)):\n",
    "    os.makedirs(os.path.join(save_dir, str(cluster_idx)), exist_ok=True)\n",
    "    for idx, image_path in enumerate(images_list):\n",
    "        # Fetch image information\n",
    "        z = image_path.split('/')[-1].split('.')[0]\n",
    "        bboxes = []\n",
    "        anns_path = os.path.join(anns_dir, f\"{z}.json\")\n",
    "        assert os.path.exists(anns_path)\n",
    "\n",
    "        # Collect all the corresponding bounding boxes\n",
    "        for bbox_info in frustums_list:\n",
    "            if bbox_info['cluster'] == cluster_idx:\n",
    "                bboxes.append(bbox_info)\n",
    "\n",
    "        # Load the image\n",
    "        image = Image.open(image_path).convert('RGB')\n",
    "        \n",
    "        # Draw the bounding boxes with the corresponding colors\n",
    "        draw = ImageDraw.Draw(image)\n",
    "        for bbox in bboxes:\n",
    "            x1 = bbox['x1']\n",
    "            y1 = bbox['y1']\n",
    "            x2 = bbox['x2']\n",
    "            y2 = bbox['y2']\n",
    "            z1 = bbox['z1']\n",
    "            z2 = bbox['z2']\n",
    "            if z1 <= float(z) <= z2:\n",
    "                outline_color = tuple([int(x * 255) for x in colors[cluster_idx]])\n",
    "                draw.rectangle([min(x1, x2), min(y1, y2), max(x1, x2), max(y1, y2)], outline=outline_color)\n",
    "        \n",
    "        # Save the labeled image\n",
    "        save_path = os.path.join(output_dir, \"FrustumsPerCluster\", str(cluster_idx), image_path.split('/')[-1])\n",
    "        image.save(save_path)"
   ]
  },
  {
   "cell_type": "code",
   "execution_count": null,
   "metadata": {},
   "outputs": [],
   "source": []
  }
 ],
 "metadata": {
  "kernelspec": {
   "display_name": "Python 3 (ipykernel)",
   "language": "python",
   "name": "python3"
  },
  "language_info": {
   "codemirror_mode": {
    "name": "ipython",
    "version": 3
   },
   "file_extension": ".py",
   "mimetype": "text/x-python",
   "name": "python",
   "nbconvert_exporter": "python",
   "pygments_lexer": "ipython3",
   "version": "3.9.18"
  }
 },
 "nbformat": 4,
 "nbformat_minor": 2
}
