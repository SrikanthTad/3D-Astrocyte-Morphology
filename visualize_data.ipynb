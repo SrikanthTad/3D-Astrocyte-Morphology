{
 "cells": [
  {
   "cell_type": "markdown",
   "metadata": {},
   "source": [
    "# Visualize Data\n",
    "Here we visualize the ground-truth annotations to inspect the data."
   ]
  },
  {
   "cell_type": "code",
   "execution_count": 14,
   "metadata": {},
   "outputs": [],
   "source": [
    "# Import required packages and set configs\n",
    "import os\n",
    "import glob\n",
    "import json\n",
    "from PIL import Image, ImageDraw\n",
    "\n",
    "output_dir = \"output/\"\n",
    "os.makedirs(output_dir, exist_ok=True)"
   ]
  },
  {
   "cell_type": "code",
   "execution_count": 15,
   "metadata": {},
   "outputs": [
    {
     "name": "stdout",
     "output_type": "stream",
     "text": [
      "Detected 22 images.\n",
      "Detected 22 annotation files.\n",
      "['data/slices/half/all_slices2_done_predictions/0.png', 'data/slices/half/all_slices2_done_predictions/1.png', 'data/slices/half/all_slices2_done_predictions/10.png', 'data/slices/half/all_slices2_done_predictions/11.png', 'data/slices/half/all_slices2_done_predictions/12.png', 'data/slices/half/all_slices2_done_predictions/13.png', 'data/slices/half/all_slices2_done_predictions/14.png', 'data/slices/half/all_slices2_done_predictions/15.png', 'data/slices/half/all_slices2_done_predictions/16.png', 'data/slices/half/all_slices2_done_predictions/17.png', 'data/slices/half/all_slices2_done_predictions/18.png', 'data/slices/half/all_slices2_done_predictions/19.png', 'data/slices/half/all_slices2_done_predictions/2.png', 'data/slices/half/all_slices2_done_predictions/20.png', 'data/slices/half/all_slices2_done_predictions/21.png', 'data/slices/half/all_slices2_done_predictions/3.png', 'data/slices/half/all_slices2_done_predictions/4.png', 'data/slices/half/all_slices2_done_predictions/5.png', 'data/slices/half/all_slices2_done_predictions/6.png', 'data/slices/half/all_slices2_done_predictions/7.png', 'data/slices/half/all_slices2_done_predictions/8.png', 'data/slices/half/all_slices2_done_predictions/9.png']\n",
      "['data/slices/half/all_slices2_done_predictions/annotations/0.json', 'data/slices/half/all_slices2_done_predictions/annotations/1.json', 'data/slices/half/all_slices2_done_predictions/annotations/10.json', 'data/slices/half/all_slices2_done_predictions/annotations/11.json', 'data/slices/half/all_slices2_done_predictions/annotations/12.json', 'data/slices/half/all_slices2_done_predictions/annotations/13.json', 'data/slices/half/all_slices2_done_predictions/annotations/14.json', 'data/slices/half/all_slices2_done_predictions/annotations/15.json', 'data/slices/half/all_slices2_done_predictions/annotations/16.json', 'data/slices/half/all_slices2_done_predictions/annotations/17.json', 'data/slices/half/all_slices2_done_predictions/annotations/18.json', 'data/slices/half/all_slices2_done_predictions/annotations/19.json', 'data/slices/half/all_slices2_done_predictions/annotations/2.json', 'data/slices/half/all_slices2_done_predictions/annotations/20.json', 'data/slices/half/all_slices2_done_predictions/annotations/21.json', 'data/slices/half/all_slices2_done_predictions/annotations/3.json', 'data/slices/half/all_slices2_done_predictions/annotations/4.json', 'data/slices/half/all_slices2_done_predictions/annotations/5.json', 'data/slices/half/all_slices2_done_predictions/annotations/6.json', 'data/slices/half/all_slices2_done_predictions/annotations/7.json', 'data/slices/half/all_slices2_done_predictions/annotations/8.json', 'data/slices/half/all_slices2_done_predictions/annotations/9.json']\n"
     ]
    }
   ],
   "source": [
    "# Load the data\n",
    "images_dir = \"data/slices/half/all_slices2_done_predictions/\"\n",
    "anns_dir = os.path.join(images_dir, \"annotations\")\n",
    "images_list = sorted(glob.glob(images_dir + \"/*.png\"))\n",
    "anns_list = sorted(glob.glob(anns_dir + \"/*.json\"))\n",
    "print(f\"Detected {len(images_list)} images.\\nDetected {len(anns_list)} annotation files.\")\n",
    "print(images_list)\n",
    "print(anns_list)"
   ]
  },
  {
   "cell_type": "code",
   "execution_count": 20,
   "metadata": {},
   "outputs": [
    {
     "name": "stdout",
     "output_type": "stream",
     "text": [
      "0\n",
      "1\n",
      "10\n",
      "11\n",
      "12\n",
      "13\n",
      "14\n",
      "15\n",
      "16\n",
      "17\n",
      "18\n",
      "19\n",
      "2\n",
      "20\n",
      "21\n",
      "3\n",
      "4\n",
      "5\n",
      "6\n",
      "7\n",
      "8\n",
      "9\n"
     ]
    }
   ],
   "source": [
    "def draw_gt(image, anns):\n",
    "    # Assume the annotations have the following format: (x1, y1), (x2, y2)\n",
    "    draw = ImageDraw.Draw(image)\n",
    "    for label in anns:\n",
    "        # Extract the coordinates\n",
    "        x1 = label['points'][0][0]\n",
    "        y1 = label['points'][0][1]\n",
    "        x2 = label['points'][1][0]\n",
    "        y2 = label['points'][1][1]\n",
    "        \n",
    "        # Plot the rectangles\n",
    "        outline_color = \"green\"\n",
    "        try:\n",
    "            draw.rectangle([min(x1, x2), min(y1, y2), max(x1, x2), max(y1, y2)], outline=outline_color)\n",
    "        except Exception:\n",
    "            print(x1, y1, x2, y2)\n",
    "        \n",
    "    return image\n",
    "\n",
    "# Loop through all images and annotations, and visualize them\n",
    "for image_path, anns_path in zip(images_list, anns_list):\n",
    "    assert image_path.split('/')[-1].split('.')[0] == anns_path.split('/')[-1].split('.')[0]\n",
    "\n",
    "    # Load the annotations file\n",
    "    with open(anns_path, 'rb') as f:\n",
    "        anns = json.load(f)\n",
    "    \n",
    "    # Load the image file\n",
    "    image = Image.open(image_path).convert('RGB')\n",
    "    \n",
    "    # Draw annotations\n",
    "    print(anns_path.split('/')[-1].split('.')[0])\n",
    "    annotated_image = draw_gt(image, anns['shapes'])\n",
    "\n",
    "    # Save the annotated image\n",
    "    save_path = image_path.split('/')[-1].split('.')[0] + \"_annotated.png\"\n",
    "    save_path = os.path.join(output_dir, save_path)\n",
    "    annotated_image.save(save_path)"
   ]
  }
 ],
 "metadata": {
  "kernelspec": {
   "display_name": "adi",
   "language": "python",
   "name": "python3"
  },
  "language_info": {
   "codemirror_mode": {
    "name": "ipython",
    "version": 3
   },
   "file_extension": ".py",
   "mimetype": "text/x-python",
   "name": "python",
   "nbconvert_exporter": "python",
   "pygments_lexer": "ipython3",
   "version": "3.9.18"
  }
 },
 "nbformat": 4,
 "nbformat_minor": 2
}
